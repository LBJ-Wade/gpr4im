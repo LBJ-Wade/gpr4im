{
 "cells": [
  {
   "cell_type": "markdown",
   "metadata": {},
   "source": [
    "# Loading in data to run GPR\n",
    "\n",
    "Without using FITS slices"
   ]
  },
  {
   "cell_type": "code",
   "execution_count": 3,
   "metadata": {},
   "outputs": [],
   "source": [
    "import numpy as np\n",
    "\n",
    "# adding path to GPR_for_IM directory in order to import relevant scripts\n",
    "import sys\n",
    "sys.path.append('../')\n",
    "import load_datacube as load"
   ]
  },
  {
   "cell_type": "markdown",
   "metadata": {},
   "source": [
    "### Loading in the data, in image form"
   ]
  },
  {
   "cell_type": "code",
   "execution_count": 4,
   "metadata": {},
   "outputs": [],
   "source": [
    "# loading simulation data, in [Nx, Ny, Nz] format:\n",
    "FG_nopol_path = '../Data/dT_HI+noise+FGnopol_Stripe82_15mBeam_unsmoothednoise.npy'\n",
    "noise_path = '../Data/dT_noise.npy'\n",
    "FGnopol_data = np.load(FG_nopol_path)\n",
    "noise_data = np.load(noise_path)\n",
    "\n",
    "# sim specs:\n",
    "df = 1 # frequency resolution of data\n",
    "vmin = 899 # min frequency (MHz)\n",
    "vmax = 1184 # max frequency (MHz)\n",
    "nx = np.shape(FGnopol_data)[0]\n",
    "ny = np.shape(FGnopol_data)[1] # number of pixels in nx and ny direction of data (equal in our case)\n",
    "ra_width = dec_width = 54.1 # width of sky in RA and Dec directions (deg)"
   ]
  },
  {
   "cell_type": "markdown",
   "metadata": {},
   "source": [
    "### Converting to visibility and to CartDataCube format"
   ]
  },
  {
   "cell_type": "code",
   "execution_count": 5,
   "metadata": {},
   "outputs": [],
   "source": [
    "FGnopol_cube = load.generateCartDataCube(FGnopol_data, vmin, vmax, df, nx, ny, ra_width, dec_width)\n",
    "noise_cube = load.generateCartDataCube(noise_data, vmin, vmax, df, nx, ny, ra_width, dec_width)"
   ]
  },
  {
   "cell_type": "markdown",
   "metadata": {},
   "source": [
    "From this you can then use $\\mathrm{\\textbf{FGnopol_cube}}$ and $\\mathrm{\\textbf{noise_cube}}$ to input into:\n",
    "\n",
    "$$\\mathrm{\\textbf{gpr_res = gpr_fit.run(cs.get_slice_fg(FGnopol_cube), cs.get_slice_fg(noise_cube))}}$$\n",
    "\n",
    "and run GPR."
   ]
  }
 ],
 "metadata": {
  "kernelspec": {
   "display_name": "Python 3",
   "language": "python",
   "name": "python3"
  },
  "language_info": {
   "codemirror_mode": {
    "name": "ipython",
    "version": 3
   },
   "file_extension": ".py",
   "mimetype": "text/x-python",
   "name": "python",
   "nbconvert_exporter": "python",
   "pygments_lexer": "ipython3",
   "version": "3.7.7"
  }
 },
 "nbformat": 4,
 "nbformat_minor": 4
}
