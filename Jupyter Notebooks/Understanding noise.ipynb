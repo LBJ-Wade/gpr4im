{
 "cells": [
  {
   "cell_type": "code",
   "execution_count": 1,
   "metadata": {},
   "outputs": [],
   "source": [
    "import matplotlib.pyplot as plt\n",
    "import pandas as pd\n",
    "\n",
    "from gpr4im import obs_tools as obs"
   ]
  },
  {
   "cell_type": "code",
   "execution_count": 2,
   "metadata": {},
   "outputs": [],
   "source": [
    "# for plotting:\n",
    "%matplotlib inline\n",
    "\n",
    "font = {\"size\": 16, \"family\": \"STIXGeneral\"}\n",
    "axislabelfontsize = \"x-large\"\n",
    "plt.rc(\"font\", **font)\n",
    "plt.rcParams[\"text.usetex\"] = True"
   ]
  },
  {
   "cell_type": "markdown",
   "metadata": {},
   "source": [
    "# Understanding noise"
   ]
  },
  {
   "cell_type": "markdown",
   "metadata": {},
   "source": [
    "In this notebook we will try to understand the different ways one can treat Gaussian random noise in GPR. The `Understanding GPR.ipynb` notebook goes through the different choices you can make, but not in huge detail. Here we explain them a bit further, and show what different choices look like. We will assume the viewer has already looked at the `Understanding GPR.ipynb` notebook before coming to this notebook, so if you haven't feel free to take a look, or refer back to it when you don't understand something here.\n",
    "\n",
    "Start by assuming you have a random variable $f$, which can be described as a Gaussian process\n",
    "\n",
    "$$ f \\sim \\mathcal{GP}(m,\\text{K})\\, ,$$\n",
    "\n",
    "such that for each frequency slice, we have\n",
    "\n",
    "$$ f(\\boldsymbol{\\nu}) \\sim \\mathcal{N}(m(\\boldsymbol{\\nu}), k(\\boldsymbol{\\nu}, \\boldsymbol{\\nu}))\\, .$$\n",
    "\n",
    "If we have some data $\\textbf{d}$ along a frequency range $\\boldsymbol{\\nu}$, and we assume the data is described as a Gaussian process $f$, then the data and the Gaussian process are going to be related as:\n",
    "\n",
    "$$ \\textbf{d} = f(\\boldsymbol{\\nu}) + \\epsilon \\,,$$\n",
    "\n",
    "that is, there is some \"uncertainty\" in the relation between the actual data and a Gaussian process describing that data. This can happen for many different reasons, including statistical and systematic uncertainties. In our case, we have Gaussian instrumental noise at each frequency slice arising from our instrument.\n",
    "\n",
    "Below we go through the different main noise parameters in the function `GPRclean`, and what they mean.\n",
    "\n",
    "---"
   ]
  },
  {
   "cell_type": "markdown",
   "metadata": {},
   "source": [
    "## `heteroscedastic`"
   ]
  },
  {
   "cell_type": "markdown",
   "metadata": {},
   "source": [
    "#### `heteroscedastic = False`\n",
    "If we assume the noise is _not_ heteroscedastic, that means that the Gaussian noise variance is constant throughout your data. In our case, it means it is constant along every frequency slice. That is\n",
    "\n",
    "$$ \\epsilon \\sim \\mathcal{N}(0, \\sigma^2_n) \\,,$$\n",
    "\n",
    "where $\\sigma^2_n$ is our Gaussian noise variance, constant for every frequency slice. This corresponds to a noise kernel of\n",
    "\n",
    "$$ \\text{K}_n(\\nu, \\nu') = \\sigma^2_n \\delta_{\\nu, \\nu'} $$\n",
    "\n",
    "where $\\delta_{\\nu, \\nu'}$ is a Kronecker delta which is one where $\\nu = \\nu'$ and zero elsewhere.\n",
    "\n",
    "#### `heteroscedastic = True`\n",
    "If we assume the noise _is_ heteroscedastic, that means its variance is not constant through frequency, and we instead have: \n",
    "\n",
    "$$ \\textbf{d}_i = f(\\boldsymbol{\\nu}_i) + \\epsilon_i \\,,$$\n",
    "\n",
    "where now $\\epsilon_i \\sim \\mathcal{N}(0, \\sigma^2_{n,i})$, and our Gaussian noise variance $\\sigma^2_{n,i}$ is changing with frequency. The noise kernel can now be written as:\n",
    "\n",
    "$$ \\text{K}_n(\\nu, \\nu') = \\sigma^2_n(\\nu, \\nu')\\, , $$\n",
    "\n",
    "where $\\sigma^2_n(\\nu_i, \\nu'_i) = \\sigma^2_{n,i}$ for $\\nu_i = \\nu'_i$ and zero otherwise. This type of noise means that your model will treat your observations differently. It will give more weight to low noise observations, trying to fit that data well, and it will give less weight to the noisier data, allowing for that data to be fit less well.\n",
    "\n",
    "Our noise data is in fact heteroscedastic, as shown below where we plot the variance of our noise data as a function of frequency."
   ]
  },
  {
   "cell_type": "code",
   "execution_count": 3,
   "metadata": {},
   "outputs": [],
   "source": [
    "# Loading data:\n",
    "data = pd.read_pickle('../Data/example_data.pkl')\n",
    "noise_data = data.beam.noise\n",
    "freqs = data.freqs\n",
    "# Calculating noise variance for each frequency slice:\n",
    "noise_var = obs.LoSpixels(noise_data).var(axis=1)"
   ]
  },
  {
   "cell_type": "code",
   "execution_count": 4,
   "metadata": {},
   "outputs": [
    {
     "data": {
      "text/plain": [
       "Text(0.5, 0, 'Frequency [MHz]')"
      ]
     },
     "execution_count": 4,
     "metadata": {},
     "output_type": "execute_result"
    },
    {
     "data": {
      "image/png": "[encoded data removed]",
      "text/plain": [
       "<Figure size 504x360 with 1 Axes>"
      ]
     },
     "metadata": {
      "needs_background": "light"
     },
     "output_type": "display_data"
    }
   ],
   "source": [
    "plt.figure(figsize=(7,5))\n",
    "plt.scatter(freqs, noise_var, c='cornflowerblue', marker='x')\n",
    "plt.ylabel('Noise variance [mK$^2$]', fontsize=23)\n",
    "plt.xlabel('Frequency [MHz]', fontsize=23)"
   ]
  },
  {
   "cell_type": "markdown",
   "metadata": {},
   "source": [
    "As you can see, our noise variance changes with frequency, and therefore it is heteroscedastic. \n",
    "\n",
    "See also this notebook from `GPy`, which we base some of this notebook off of, for more information:\n",
    "https://nbviewer.jupyter.org/github/SheffieldML/notebook/blob/master/GPy/heteroscedastic_regression.ipynb"
   ]
  },
  {
   "cell_type": "markdown",
   "metadata": {},
   "source": [
    "## `noise_data` "
   ]
  },
  {
   "cell_type": "markdown",
   "metadata": {},
   "source": [
    "#### `noise_data = None` \n",
    "If we assume the noise data is `None`, we are simply saying we don't know what the noise is beforehand, and so GPR will try to find the best fitting variance for the noise given our data. If `heteroscedastic = False`, it will try to find a single best fitting noise variance ($\\sigma^2_n$), but if `heteroscedastic = True` it will try to fit a best fitting noise variance for each different frequency slice ($\\sigma^2_{n,i}$).\n",
    "\n",
    "#### `noise_data = noise_data`\n",
    "If you know the noise of your data (`noise_data`), or have a good estimate for it, you can simply input here your noise data cube, and GPR will do the rest of you (i.e. if `heteroscedastic = False`, GPR will calculate the variance of your noise data and set the constant noise variance to that, or if `heteroscedastic = True`, GPR will calculate the variance of the noise data at each frequency slice and set the variance at each frequency to that."
   ]
  },
  {
   "cell_type": "markdown",
   "metadata": {},
   "source": [
    "For example, if `heteroscedastic = False`, GPR will calculate your variance as follows:"
   ]
  },
  {
   "cell_type": "code",
   "execution_count": 5,
   "metadata": {},
   "outputs": [
    {
     "name": "stdout",
     "output_type": "stream",
     "text": [
      "Constant noise variance:  1.3587374315628525e-05\n"
     ]
    }
   ],
   "source": [
    "noise_var_constant = noise_data.var()\n",
    "print('Constant noise variance: ', noise_var_constant)"
   ]
  },
  {
   "cell_type": "markdown",
   "metadata": {},
   "source": [
    "Or if `heteroscedastic = True`, GPR will do:"
   ]
  },
  {
   "cell_type": "code",
   "execution_count": 6,
   "metadata": {},
   "outputs": [
    {
     "name": "stdout",
     "output_type": "stream",
     "text": [
      "Noise variance at first frequency slice:  1.2287050436099756e-05\n",
      "Noise variance at second frequency slice:  1.2269944318871936e-05\n"
     ]
    }
   ],
   "source": [
    "noise_var_changing = obs.LoSpixels(noise_data).var(axis=1)\n",
    "print('Noise variance at first frequency slice: ', noise_var_changing[0])\n",
    "print('Noise variance at second frequency slice: ', noise_var_changing[1])"
   ]
  },
  {
   "cell_type": "markdown",
   "metadata": {},
   "source": [
    "## `zero_noise`"
   ]
  },
  {
   "cell_type": "markdown",
   "metadata": {},
   "source": [
    "#### `zero_noise = True`\n",
    "This is only an option in the non-heteroscedastic case. What this means is that GPR will assume you have zero noise throughout. This is useful if you are trying to use a kernel function (such as Exponential) to describe your noise, instead of the usual way GPR treats the noise. It is also useful if you have no noise. If you want this option, you have to also set `heteroscedastic = False` and `noise_data = None`\n",
    "\n",
    "#### `zero_noise = False`\n",
    "This just assumes you do have noise in your data, and you can tweak the `noise_data` and `heteroscedastic` parameters according to your data."
   ]
  }
 ],
 "metadata": {
  "kernelspec": {
   "display_name": "Python 3",
   "language": "python",
   "name": "python3"
  },
  "language_info": {
   "codemirror_mode": {
    "name": "ipython",
    "version": 3
   },
   "file_extension": ".py",
   "mimetype": "text/x-python",
   "name": "python",
   "nbconvert_exporter": "python",
   "pygments_lexer": "ipython3",
   "version": "3.7.10"
  }
 },
 "nbformat": 4,
 "nbformat_minor": 4
}
