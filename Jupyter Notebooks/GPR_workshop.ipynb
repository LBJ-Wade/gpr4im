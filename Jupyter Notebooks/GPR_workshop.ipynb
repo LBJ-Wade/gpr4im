{
 "cells": [
  {
   "cell_type": "code",
   "execution_count": 18,
   "metadata": {},
   "outputs": [],
   "source": [
    "import matplotlib.pyplot as plt\n",
    "import numpy as np\n",
    "import GPy\n",
    "import h5py\n",
    "import pandas as pd\n",
    "\n",
    "# adding path to GPR_for_IM directory in order to import relevant scripts\n",
    "import sys\n",
    "sys.path.append('../')\n",
    "import load_datacube as load\n",
    "import pk_tools as pk\n",
    "import obs_tools as obs\n",
    "import fg_tools as fg"
   ]
  },
  {
   "cell_type": "code",
   "execution_count": 2,
   "metadata": {},
   "outputs": [],
   "source": [
    "# for plotting:\n",
    "%matplotlib inline\n",
    "\n",
    "font = {\"size\": 16, \"family\": \"STIXGeneral\"}\n",
    "axislabelfontsize = \"x-large\"\n",
    "plt.rc(\"font\", **font)\n",
    "plt.rcParams[\"text.usetex\"] = True"
   ]
  },
  {
   "cell_type": "markdown",
   "metadata": {},
   "source": [
    "# GPR workshop\n",
    "\n",
    "In this notebook we go through the main code used to run Gaussian Process Regression for foreground removal on HI Intensity Mapping data. For the most important functions, we walk through them step by step and then also show how to call them from the relevant scripts."
   ]
  },
  {
   "cell_type": "markdown",
   "metadata": {},
   "source": [
    "## Loading data\n",
    "\n",
    "First, we load all the raw data:\n",
    "\n",
    "- Foregrounds (with polarisation)\n",
    "- HI cosmological signal\n",
    "- Instrumental noise\n",
    "\n",
    "And make sure the data is in $[Nx, Ny, Nz]$ format, where $Nz$ is the line of sight (frequency) direction. The data is smoothed by a constant telescope beam, which is the largest beam given by the beam size at the highest redshift ($z=0.58$).\n",
    "\n",
    "We also load the frequency range of our data, `freqs`. The data goes from 1183MHz to 899MHz in 1MHz increments."
   ]
  },
  {
   "cell_type": "code",
   "execution_count": 3,
   "metadata": {},
   "outputs": [],
   "source": [
    "data = h5py.File('../Data/data.h5', 'r')\n",
    "FGwpol_HI_noise_data = data.get('beam/FGwpol+HI+noise')[()]\n",
    "#FGnopol_data = data.get('beam/foregrounds/sync')[()] + data.get('beam/foregrounds/free')[()] + data.get('beam/foregrounds/psource')[()]\n",
    "HI_noise_data = data.get('beam/HI+noise')[()]\n",
    "freqs = data.get('freqs')[()]"
   ]
  },
  {
   "cell_type": "markdown",
   "metadata": {},
   "source": [
    "Now we run PCA foreground cleaning in order to compare these results to GPR:"
   ]
  },
  {
   "cell_type": "code",
   "execution_count": 4,
   "metadata": {},
   "outputs": [],
   "source": [
    "pca_res_7 = fg.PCAclean(FGwpol_HI_noise_data, N_FG=7)[0]"
   ]
  },
  {
   "cell_type": "markdown",
   "metadata": {},
   "source": [
    "## Running GPR"
   ]
  },
  {
   "cell_type": "markdown",
   "metadata": {},
   "source": [
    "We start by choosing which kernels we will use for each component in our data:"
   ]
  },
  {
   "cell_type": "code",
   "execution_count": 5,
   "metadata": {},
   "outputs": [],
   "source": [
    "# kernel for the smooth foreground:\n",
    "kern_fg_smooth = GPy.kern.RBF(1)\n",
    "# kernel for the polarised foreground:\n",
    "kern_fg_pol = GPy.kern.RBF(1)\n",
    "# add foreground kernels together:\n",
    "kern_fg = kern_fg_smooth + kern_fg_pol\n",
    "# kernel for the HI cosmological signal:\n",
    "kern_21 = GPy.kern.Exponential(1)"
   ]
  },
  {
   "cell_type": "markdown",
   "metadata": {},
   "source": [
    "We want to set priors for the kernels, to make sure the foreground kernels aren't fitting to the HI data and the HI kernel isn't fitting to the foregrounds.\n",
    "Since larger lengthscales mean \"smoother\" line of sight functions, we want the lengthscale for the foreground kernels to be large and for the HI kernel to be smaller.\n",
    "We don't do this for the smooth foreground because for that we are using the Polynomial kernel, which doesn't have a lengthscale parameter."
   ]
  },
  {
   "cell_type": "code",
   "execution_count": 6,
   "metadata": {},
   "outputs": [
    {
     "name": "stderr",
     "output_type": "stream",
     "text": [
      "reconstraining parameters Exponential.lengthscale\n",
      "reconstraining parameters sum.rbf.variance\n",
      "reconstraining parameters sum.rbf.lengthscale\n",
      "reconstraining parameters sum.rbf_1.variance\n",
      "reconstraining parameters sum.rbf_1.lengthscale\n"
     ]
    }
   ],
   "source": [
    "# setting lengthscale prior to be between 0-20MHz for HI data:\n",
    "kern_21.lengthscale.constrain_bounded(0,15)\n",
    "# setting priors for the smooth foreground kernel:\n",
    "kern_fg.rbf.variance.constrain_bounded(1000,10000000)\n",
    "kern_fg.rbf.lengthscale.constrain_bounded(200,1000)\n",
    "# setting priors for the polarised foreground kernel:\n",
    "kern_fg.rbf_1.variance.constrain_bounded(0,10)\n",
    "kern_fg.rbf_1.lengthscale.constrain_bounded(15,500)"
   ]
  },
  {
   "cell_type": "markdown",
   "metadata": {},
   "source": [
    "Parameters for running GPR:\n",
    "\n",
    "- `Input`: data cube to be cleaned, in $[Nx,Ny,Nz]$ format where $Nz$ is the frequency direction\n",
    "- `num_restarts`: how many times to optimise the GPR regression model by restarting the GPR fit\n",
    "- `NprePCA`: set to 0 if no pre-PCA is desired, otherwise this number is the $N_\\text{FG}$ number of components used in a pre-PCA clean of the data\n",
    "- `noise_data`: input here your noise map in $[Nx,Ny,Nz]$ if you have a reasonable estimate from your data, otherwise set to None and use GPR to try to fit your noise\n",
    "- `zero_noise`: if True, the noise in your GPR model will be set to zero and fixed. Otherwise it will try to fit to noise in your data, in either the heteroscedastic or non-heteroscedastic case. Set to zero if you want to fit your noise with a separate kernel instead, otherwise you will fit to noise twice\n",
    "- `heteroscedastic`: if True, runs Heteroscedastic regression model (where the noise variance changes with frequency) (Note: you cannot have noise=False and heteroscedastic=True at the same time, to set noise to zero set heteroscedastic=False too). If False, the noise variance will be assumed to be constant with frequency.\n",
    "- `invert`: if True, inverts data in the frequency direction"
   ]
  },
  {
   "cell_type": "code",
   "execution_count": 8,
   "metadata": {},
   "outputs": [],
   "source": [
    "Input = FGwpol_HI_noise_data\n",
    "num_restarts = 10\n",
    "NprePCA = 0\n",
    "noise_data = None\n",
    "zero_noise = True\n",
    "heteroscedastic = False\n",
    "invert = False"
   ]
  },
  {
   "cell_type": "markdown",
   "metadata": {},
   "source": [
    "Prepare the data for running GPR:"
   ]
  },
  {
   "cell_type": "code",
   "execution_count": 9,
   "metadata": {},
   "outputs": [],
   "source": [
    "# extract axes from the data:\n",
    "axes = np.shape(Input)\n",
    "    \n",
    "# if desired, do a pre-PCA with N_FG=NprePCA removed components\n",
    "if NprePCA > 0: Input = fg.PCAclean(Input, N_FG=NprePCA)[0]\n",
    "\n",
    "# converting data format to LoS pixels [Nx,Ny,Nz] -> [Npix,Nz]\n",
    "Input = load.LoSpixels(Input)\n",
    "if noise_data is not None: noise_data = load.LoSpixels(noise_data)\n",
    "\n",
    "# invert frequency axis\n",
    "if invert==True: \n",
    "    Input = Input[::-1]\n",
    "    if noise_data is not None: noise_data = noise_data[::-1]"
   ]
  },
  {
   "cell_type": "markdown",
   "metadata": {},
   "source": [
    "Next, we build our GPR model using our frequency rance, input data and kernel. This will look different depending on the choices made for the parameters, e.g. whether the noise is fixed and whether the model is heteroscedastic."
   ]
  },
  {
   "cell_type": "code",
   "execution_count": 10,
   "metadata": {},
   "outputs": [],
   "source": [
    "# build your model, input the freq range, the data, and the kernels\n",
    "kern = kern_fg + kern_21\n",
    "    \n",
    "# this heteroscedastic case assumes a Gaussian noise variance that changes with frequency\n",
    "if heteroscedastic==True: \n",
    "    # this case assumes noise is known, sets noise level to your noise_data variances\n",
    "        # at different frequencies (since heteroscedastic)\n",
    "    if noise_data is not None:\n",
    "        model = GPy.models.GPHeteroscedasticRegression(freqs[:, np.newaxis], Input, kern)\n",
    "        model.het_Gauss.variance.constrain_fixed(noise_data.var(axis=1)[:, None])\n",
    "        #model.het_Gauss.variance.constrain_bounded(noise_data[0], noise_data[1])\n",
    "    # this case assumes noise is not known, model will fit a variance at each frequency\n",
    "    else:\n",
    "        model = GPy.models.GPHeteroscedasticRegression(freqs[:, np.newaxis], Input, kern)\n",
    "    # note: if you want the case of *no noise*, there's no need to use heteroscedastic,\n",
    "        # so set heteroscedastic = False and see below\n",
    "\n",
    "# this non-heteroscedastic case assumes constant Gaussian noise variance throughout frequency\n",
    "else: \n",
    "    # this case assumes noise is know, sets the noise variance level to the variance\n",
    "        # from the input noise_data\n",
    "    if noise_data is not None:\n",
    "        model = GPy.models.GPRegression(freqs[:, np.newaxis], Input, kern)\n",
    "        model.Gaussian_noise.constrain_fixed(noise_data.var())\n",
    "    else:\n",
    "        # this case assumes there is no noise in your data\n",
    "        if zero_noise == True:\n",
    "            model = GPy.models.GPRegression(freqs[:, np.newaxis], Input, kern)\n",
    "            model['.*Gaussian_noise'] = 0.0\n",
    "            model['.*noise'].fix()\n",
    "        # this case assumes there is noise but it is unknown, fits a constant variance\n",
    "        else:\n",
    "            model = GPy.models.GPRegression(freqs[:, np.newaxis], Input, kern)"
   ]
  },
  {
   "cell_type": "markdown",
   "metadata": {},
   "source": [
    "Now that we have the model, we optimise it and find the best fitting hyperparameters for the kernels:"
   ]
  },
  {
   "cell_type": "code",
   "execution_count": 11,
   "metadata": {},
   "outputs": [
    {
     "name": "stderr",
     "output_type": "stream",
     "text": [
      " /opt/anaconda3/envs/nbodykit-env/lib/python3.7/site-packages/paramz/transformations.py:111: RuntimeWarning:divide by zero encountered in log\n"
     ]
    },
    {
     "name": "stdout",
     "output_type": "stream",
     "text": [
      "Optimization restart 1/10, f = -45836973.57973343\n",
      "Optimization restart 2/10, f = -46037042.688421175\n",
      "Optimization restart 3/10, f = -46274836.63096298\n",
      "Optimization restart 4/10, f = -46223365.27557928\n",
      "Optimization restart 5/10, f = -46223482.1840591\n",
      "Optimization restart 6/10, f = -46274837.02259345\n",
      "Optimization restart 7/10, f = -46274836.70810301\n",
      "Optimization restart 8/10, f = -46176995.01758173\n",
      "Optimization restart 9/10, f = -45836979.90022254\n",
      "Optimization restart 10/10, f = -45033521.3087926\n"
     ]
    },
    {
     "data": {
      "text/plain": [
       "[<paramz.optimization.optimization.opt_lbfgsb at 0x12179bd50>,\n",
       " <paramz.optimization.optimization.opt_lbfgsb at 0x104131050>,\n",
       " <paramz.optimization.optimization.opt_lbfgsb at 0x103328510>,\n",
       " <paramz.optimization.optimization.opt_lbfgsb at 0x103328b10>,\n",
       " <paramz.optimization.optimization.opt_lbfgsb at 0x103328a50>,\n",
       " <paramz.optimization.optimization.opt_lbfgsb at 0x103328e90>,\n",
       " <paramz.optimization.optimization.opt_lbfgsb at 0x103387610>,\n",
       " <paramz.optimization.optimization.opt_lbfgsb at 0x121a63dd0>,\n",
       " <paramz.optimization.optimization.opt_lbfgsb at 0x10338a590>,\n",
       " <paramz.optimization.optimization.opt_lbfgsb at 0x121a63d90>]"
      ]
     },
     "execution_count": 11,
     "metadata": {},
     "output_type": "execute_result"
    }
   ],
   "source": [
    "model.optimize_restarts(num_restarts = num_restarts)"
   ]
  },
  {
   "cell_type": "markdown",
   "metadata": {},
   "source": [
    "We can print the optimised model to see things such as the objective function (which we want to be as small as possible), and also the best fit hyperparameters for the kernels. The `Objective` parameter describes how good of a fit our model is, and we want this to be as small as possible (i.e., a large negative number). You can extract the objective value directly from the model by printing: `model.objective_function()`"
   ]
  },
  {
   "cell_type": "code",
   "execution_count": 16,
   "metadata": {},
   "outputs": [
    {
     "data": {
      "text/html": [
       "<style type=\"text/css\">\n",
       ".pd{\n",
       "    font-family: \"Courier New\", Courier, monospace !important;\n",
       "    width: 100%;\n",
       "    padding: 3px;\n",
       "}\n",
       "</style>\n",
       "\n",
       "<p class=pd>\n",
       "<b>Model</b>: GP regression<br>\n",
       "<b>Objective</b>: -46274837.02259345<br>\n",
       "<b>Number of Parameters</b>: 7<br>\n",
       "<b>Number of Optimization Parameters</b>: 6<br>\n",
       "<b>Updates</b>: True<br>\n",
       "</p>\n",
       "<style type=\"text/css\">\n",
       ".tg  {font-family:\"Courier New\", Courier, monospace !important;padding:2px 3px;word-break:normal;border-collapse:collapse;border-spacing:0;border-color:#DCDCDC;margin:0px auto;width:100%;}\n",
       ".tg td{font-family:\"Courier New\", Courier, monospace !important;font-weight:bold;color:#444;background-color:#F7FDFA;border-style:solid;border-width:1px;overflow:hidden;word-break:normal;border-color:#DCDCDC;}\n",
       ".tg th{font-family:\"Courier New\", Courier, monospace !important;font-weight:normal;color:#fff;background-color:#26ADE4;border-style:solid;border-width:1px;overflow:hidden;word-break:normal;border-color:#DCDCDC;}\n",
       ".tg .tg-left{font-family:\"Courier New\", Courier, monospace !important;font-weight:normal;text-align:left;}\n",
       ".tg .tg-center{font-family:\"Courier New\", Courier, monospace !important;font-weight:normal;text-align:center;}\n",
       ".tg .tg-right{font-family:\"Courier New\", Courier, monospace !important;font-weight:normal;text-align:right;}\n",
       "</style>\n",
       "<table class=\"tg\"><tr><th><b>  GP_regression.             </b></th><th><b>                value</b></th><th><b>   constraints   </b></th><th><b>priors</b></th></tr>\n",
       "<tr><td class=tg-left>  sum.rbf.variance           </td><td class=tg-right>    67168.01908505714</td><td class=tg-center>1000.0,10000000.0</td><td class=tg-center>      </td></tr>\n",
       "<tr><td class=tg-left>  sum.rbf.lengthscale        </td><td class=tg-right>    475.2784103125158</td><td class=tg-center>  200.0,1000.0   </td><td class=tg-center>      </td></tr>\n",
       "<tr><td class=tg-left>  sum.rbf_1.variance         </td><td class=tg-right>   0.4993467295313681</td><td class=tg-center>    0.0,10.0     </td><td class=tg-center>      </td></tr>\n",
       "<tr><td class=tg-left>  sum.rbf_1.lengthscale      </td><td class=tg-right>    58.41691071238476</td><td class=tg-center>   15.0,500.0    </td><td class=tg-center>      </td></tr>\n",
       "<tr><td class=tg-left>  sum.Exponential.variance   </td><td class=tg-right>0.0012143398609285997</td><td class=tg-center>       +ve       </td><td class=tg-center>      </td></tr>\n",
       "<tr><td class=tg-left>  sum.Exponential.lengthscale</td><td class=tg-right>    6.725454494515181</td><td class=tg-center>    0.0,15.0     </td><td class=tg-center>      </td></tr>\n",
       "<tr><td class=tg-left>  Gaussian_noise.variance    </td><td class=tg-right>                  0.0</td><td class=tg-center>    +ve fixed    </td><td class=tg-center>      </td></tr>\n",
       "</table>"
      ],
      "text/plain": [
       "<GPy.models.gp_regression.GPRegression at 0x121a31450>"
      ]
     },
     "execution_count": 16,
     "metadata": {},
     "output_type": "execute_result"
    }
   ],
   "source": [
    "model"
   ]
  },
  {
   "cell_type": "markdown",
   "metadata": {},
   "source": [
    "Now that we have the optimised model, we can use the best fit hyperparamers found for the foreground kernels and use it to \"predict\" a sample of the foregrounds in our frequency range, and then subtract that prediction from our input data. This is the process of foreground removal with GPR, and should leave us with an estimate for the HI cosmological signal and noise."
   ]
  },
  {
   "cell_type": "code",
   "execution_count": 19,
   "metadata": {},
   "outputs": [],
   "source": [
    "# extract optimised foreground kernel:\n",
    "if kern_fg.name == 'sum': # if there is more than one foreground kernel\n",
    "    k_fg_length = len(kern_fg.parts)\n",
    "    k_fg = model.kern.parts[0]\n",
    "    if k_fg_length > 1:\n",
    "        for i in range(1, k_fg_length):\n",
    "            k_fg += model.kern.parts[i]\n",
    "else: k_fg = model.kern.parts[0]\n",
    "\n",
    "# make prediction of what FGs would look like using this optimised FG kernel:\n",
    "fg_fit, fg_cov = model.predict(freqs[:, np.newaxis], full_cov=True, kern=k_fg,\n",
    "    include_likelihood=False)\n",
    "\n",
    "# subtract FG fit from data, to obtain HI+noise residuals:\n",
    "gpr_res = Input - fg_fit\n",
    "\n",
    "# un-invert data:\n",
    "if invert==True: \n",
    "    gpr_res = gpr_res[::-1]\n",
    "    fg_fit = fg_fit[::-1]\n",
    "    \n",
    "# reshape residuals back to [Nx, Ny, Nz]\n",
    "gpr_res = np.swapaxes(gpr_res,0,1)\n",
    "gpr_res = np.reshape(gpr_res,(axes[0], axes[1], axes[2]))\n",
    "\n",
    "# also reshape foreground fit\n",
    "fg_fit = np.swapaxes(fg_fit,0,1)\n",
    "fg_fit = np.reshape(fg_fit,(axes[0], axes[1], axes[2]))\n",
    "\n",
    "# create Series as the output object, containing all the important results\n",
    "d = {'res': gpr_res, 'fgcov': fg_cov, 'fgfit': fg_fit, 'model': model}\n",
    "gpr_result = pd.Series(d)"
   ]
  },
  {
   "cell_type": "markdown",
   "metadata": {},
   "source": [
    "Let's try to understand this a bit better. Here, what we did was generate a sample of what the foregrounds look like given the best fitting foreground kernel (expectation value, `fg_fit`), and then subtracted this prediction to obtain the residual, which should contain the HI cosmological signal and the noise. We also, while calculating the expectation value, calculated the covariance (`fg_cov`), which can be thought of as the \"error\" on the expectation value, given by the fact that the kernel isn't a perfect fit to our data.\n",
    "\n",
    "We use a bias correction to account for the error in our foreground fit. See the notebook `bias_correction.ipynb` for more details on that. We do this when we calculate the power spectrum of the GPR residual, by calling the function `get_biascorr`."
   ]
  },
  {
   "cell_type": "markdown",
   "metadata": {},
   "source": [
    "---\n",
    "\n",
    "And that's how you run foreground removal with GPR! This can all be done by calling a single function, \"GPRclean\", from the script \"fg_tools.\" Below shows how this can be done. Recall the parameters we chose:"
   ]
  },
  {
   "cell_type": "code",
   "execution_count": 20,
   "metadata": {},
   "outputs": [
    {
     "name": "stderr",
     "output_type": "stream",
     "text": [
      "reconstraining parameters sum.rbf.variance\n",
      "reconstraining parameters sum.rbf.lengthscale\n",
      "reconstraining parameters sum.rbf_1.variance\n",
      "reconstraining parameters sum.rbf_1.lengthscale\n",
      "reconstraining parameters Exponential.lengthscale\n"
     ]
    }
   ],
   "source": [
    "Input = FGwpol_HI_noise_data\n",
    "num_restarts = 10\n",
    "NprePCA = 0\n",
    "noise_data = None\n",
    "zero_noise = True\n",
    "heteroscedastic = False\n",
    "invert = False\n",
    "\n",
    "# kernels (same as before):\n",
    "# kernel for the smooth foreground:\n",
    "kern_fg_smooth = GPy.kern.RBF(1)\n",
    "# kernel for the polarised foreground:\n",
    "kern_fg_pol = GPy.kern.RBF(1)\n",
    "# add foreground kernels together:\n",
    "kern_fg = kern_fg_smooth + kern_fg_pol\n",
    "kern_fg.rbf.variance.constrain_bounded(1000,10000000)\n",
    "kern_fg.rbf.lengthscale.constrain_bounded(200,1000)\n",
    "kern_fg.rbf_1.variance.constrain_bounded(0,10)\n",
    "kern_fg.rbf_1.lengthscale.constrain_bounded(15,500)\n",
    "# kernel for the HI cosmological signal:\n",
    "kern_21 = GPy.kern.Exponential(1)\n",
    "kern_21.lengthscale.constrain_bounded(0,15)"
   ]
  },
  {
   "cell_type": "markdown",
   "metadata": {},
   "source": [
    "Calling the `GPRclean` function:"
   ]
  },
  {
   "cell_type": "code",
   "execution_count": 21,
   "metadata": {},
   "outputs": [
    {
     "name": "stderr",
     "output_type": "stream",
     "text": [
      " /opt/anaconda3/envs/nbodykit-env/lib/python3.7/site-packages/paramz/transformations.py:111: RuntimeWarning:divide by zero encountered in log\n"
     ]
    },
    {
     "name": "stdout",
     "output_type": "stream",
     "text": [
      "Optimization restart 1/10, f = -45836974.67435486\n",
      "Optimization restart 2/10, f = -46173945.93922056\n",
      "Optimization restart 3/10, f = -45836979.04170451\n",
      "Optimization restart 4/10, f = -45836980.14206732\n",
      "Optimization restart 5/10, f = -45836975.51026857\n",
      "Optimization restart 6/10, f = -45836850.77972551\n",
      "Optimization restart 7/10, f = -46036751.16867937\n",
      "Optimization restart 8/10, f = -45836977.14224945\n",
      "Optimization restart 9/10, f = -45836975.25971052\n",
      "Optimization restart 10/10, f = -46274837.09425098\n"
     ]
    }
   ],
   "source": [
    "gpr_result2 = fg.GPRclean(Input, freqs, kern_fg, kern_21, NprePCA=NprePCA,\n",
    "                                          noise_data=noise_data, heteroscedastic=heteroscedastic, \n",
    "                                          zero_noise=zero_noise, invert=invert)"
   ]
  },
  {
   "cell_type": "code",
   "execution_count": 22,
   "metadata": {},
   "outputs": [
    {
     "data": {
      "text/html": [
       "<style type=\"text/css\">\n",
       ".pd{\n",
       "    font-family: \"Courier New\", Courier, monospace !important;\n",
       "    width: 100%;\n",
       "    padding: 3px;\n",
       "}\n",
       "</style>\n",
       "\n",
       "<p class=pd>\n",
       "<b>Model</b>: GP regression<br>\n",
       "<b>Objective</b>: -46274837.09425098<br>\n",
       "<b>Number of Parameters</b>: 7<br>\n",
       "<b>Number of Optimization Parameters</b>: 6<br>\n",
       "<b>Updates</b>: True<br>\n",
       "</p>\n",
       "<style type=\"text/css\">\n",
       ".tg  {font-family:\"Courier New\", Courier, monospace !important;padding:2px 3px;word-break:normal;border-collapse:collapse;border-spacing:0;border-color:#DCDCDC;margin:0px auto;width:100%;}\n",
       ".tg td{font-family:\"Courier New\", Courier, monospace !important;font-weight:bold;color:#444;background-color:#F7FDFA;border-style:solid;border-width:1px;overflow:hidden;word-break:normal;border-color:#DCDCDC;}\n",
       ".tg th{font-family:\"Courier New\", Courier, monospace !important;font-weight:normal;color:#fff;background-color:#26ADE4;border-style:solid;border-width:1px;overflow:hidden;word-break:normal;border-color:#DCDCDC;}\n",
       ".tg .tg-left{font-family:\"Courier New\", Courier, monospace !important;font-weight:normal;text-align:left;}\n",
       ".tg .tg-center{font-family:\"Courier New\", Courier, monospace !important;font-weight:normal;text-align:center;}\n",
       ".tg .tg-right{font-family:\"Courier New\", Courier, monospace !important;font-weight:normal;text-align:right;}\n",
       "</style>\n",
       "<table class=\"tg\"><tr><th><b>  GP_regression.             </b></th><th><b>                value</b></th><th><b>   constraints   </b></th><th><b>priors</b></th></tr>\n",
       "<tr><td class=tg-left>  sum.rbf.variance           </td><td class=tg-right>    67166.68200948546</td><td class=tg-center>1000.0,10000000.0</td><td class=tg-center>      </td></tr>\n",
       "<tr><td class=tg-left>  sum.rbf.lengthscale        </td><td class=tg-right>   475.28866387170444</td><td class=tg-center>  200.0,1000.0   </td><td class=tg-center>      </td></tr>\n",
       "<tr><td class=tg-left>  sum.rbf_1.variance         </td><td class=tg-right>   0.4992956644764306</td><td class=tg-center>    0.0,10.0     </td><td class=tg-center>      </td></tr>\n",
       "<tr><td class=tg-left>  sum.rbf_1.lengthscale      </td><td class=tg-right>    58.41603838984438</td><td class=tg-center>   15.0,500.0    </td><td class=tg-center>      </td></tr>\n",
       "<tr><td class=tg-left>  sum.Exponential.variance   </td><td class=tg-right>0.0012143279960818779</td><td class=tg-center>       +ve       </td><td class=tg-center>      </td></tr>\n",
       "<tr><td class=tg-left>  sum.Exponential.lengthscale</td><td class=tg-right>   6.7253971362945535</td><td class=tg-center>    0.0,15.0     </td><td class=tg-center>      </td></tr>\n",
       "<tr><td class=tg-left>  Gaussian_noise.variance    </td><td class=tg-right>                  0.0</td><td class=tg-center>    +ve fixed    </td><td class=tg-center>      </td></tr>\n",
       "</table>"
      ],
      "text/plain": [
       "<GPy.models.gp_regression.GPRegression at 0x1386483d0>"
      ]
     },
     "execution_count": 22,
     "metadata": {},
     "output_type": "execute_result"
    }
   ],
   "source": [
    "gpr_result2.model"
   ]
  },
  {
   "cell_type": "markdown",
   "metadata": {},
   "source": [
    "To summarise the outputs:\n",
    "\n",
    "- `gpr_res` (a.k.a. `gpr_result.res`): residual map of HI and noise, after GPR foreground subtraction;\n",
    "- `fg_fit` (a.k.a. `gpr_result.fgfit`): GPR's prediction for what our foregrounds look like, i.e. what we subtract from our original data to get `gpr_res`;\n",
    "- `fg_cov` (a.k.a. `gpr_result.fgcov`): error covariance of the foreground estimate, i.e. how uncertain the estimate of the foreground is;\n",
    "- `model` (a.k.a. `gpr_result.model`): summary of what the best fit hyperparameters were found for the kernels, and what the objective function is."
   ]
  },
  {
   "cell_type": "markdown",
   "metadata": {},
   "source": [
    "If you want, you can print the model again to make sure it's similar to the first model. We plot the power spectra of both `gpr_res` and `gpr_res2` below to show that they are consistent."
   ]
  },
  {
   "cell_type": "markdown",
   "metadata": {},
   "source": [
    "## Plot power spectrum"
   ]
  },
  {
   "cell_type": "code",
   "execution_count": 23,
   "metadata": {},
   "outputs": [],
   "source": [
    "# Grid dimension of data cube:\n",
    "lx,ly,lz = 1000,1000, 924.78 #Mpc/h\n",
    "nx,ny,nz = 256, 256, 285\n",
    "\n",
    "# weighting and window function:\n",
    "w = W = np.ones((nx,ny,nz))\n",
    "\n",
    "# minimum and maximum k in each direction:\n",
    "kmin = 2*np.pi/pow(lx*ly*lz, 1/3)\n",
    "kmax= 1\n",
    "\n",
    "# set width of k bins to be 2*kmin\n",
    "dk = 2*kmin\n",
    "\n",
    "# number of k bins:\n",
    "nkbin = int((kmax-kmin)/dk)\n",
    "\n",
    "# setting array of k bin edges:\n",
    "kbins = np.arange(kmin,kmax,dk)\n",
    "\n",
    "# setting array of k bin centers\"\n",
    "k = np.linspace(kmin+0.5*dk,kmax-0.5*dk,nkbin)"
   ]
  },
  {
   "cell_type": "markdown",
   "metadata": {},
   "source": [
    "Calculate bias correction to the 3D power spectrum only:"
   ]
  },
  {
   "cell_type": "code",
   "execution_count": 25,
   "metadata": {},
   "outputs": [],
   "source": [
    "n_samples = 10\n",
    "pk_corr = pk.get_biascorr(gpr_result.fgcov, Input, n_samples, lx, ly, lz, kbins, kbins, w, W)[0]\n",
    "pk_corr2 = pk.get_biascorr(gpr_result2.fgcov, Input, n_samples, lx, ly, lz, kbins, kbins, w, W)[0]"
   ]
  },
  {
   "cell_type": "markdown",
   "metadata": {},
   "source": [
    "Calculate 3D power spectra:"
   ]
  },
  {
   "cell_type": "code",
   "execution_count": 27,
   "metadata": {},
   "outputs": [],
   "source": [
    "pk_HI = pk.getpk(HI_noise_data,w,W,nx,ny,nz,lx,ly,lz,kbins)[0]\n",
    "pk_GPR = pk.getpk(gpr_result.res,w,W,nx,ny,nz,lx,ly,lz,kbins)[0] + pk_corr\n",
    "pk_GPR2 = pk.getpk(gpr_result2.res,w,W,nx,ny,nz,lx,ly,lz,kbins)[0] + pk_corr2\n",
    "pk_PCA3 = pk.getpk(pca_res_7,w,W,nx,ny,nz,lx,ly,lz,kbins)[0]"
   ]
  },
  {
   "cell_type": "code",
   "execution_count": 28,
   "metadata": {},
   "outputs": [
    {
     "data": {
      "text/plain": [
       "Text(0.5, 0, '$k$ [$h$/Mpc]')"
      ]
     },
     "execution_count": 28,
     "metadata": {},
     "output_type": "execute_result"
    },
    {
     "data": {
      "image/png": "[encoded data removed]",
      "text/plain": [
       "<Figure size 792x576 with 1 Axes>"
      ]
     },
     "metadata": {
      "needs_background": "light"
     },
     "output_type": "display_data"
    }
   ],
   "source": [
    "plt.figure(figsize=(11,8))\n",
    "\n",
    "plt.plot(k, (k*k*k*pk_HI)/(2*np.pi*np.pi), ls='solid', lw=3, c='k', label = r'HI + noise data')\n",
    "plt.plot(k, (k*k*k*pk_GPR)/(2*np.pi*np.pi), ls='dashdot', lw=3, c='darkblue', label = r'GPR cleaned data')\n",
    "plt.plot(k, (k*k*k*pk_GPR2)/(2*np.pi*np.pi), ls='dashed', lw=3, c='cornflowerblue', label = r'GPR cleaned data (double check)')\n",
    "plt.plot(k, (k*k*k*pk_PCA3)/(2*np.pi*np.pi), ls='dotted', lw=3, c='darkred', label = r'PCA cleaned data ($N_{FG}=7$)')\n",
    "\n",
    "plt.legend(fontsize=18)\n",
    "plt.xlim(0,0.3)\n",
    "plt.ylabel('(k$^3$/2$\\pi^2$)P($k$) [mK$^2$]', fontsize=22)\n",
    "plt.xlabel('$k$ [$h$/Mpc]', fontsize=22)"
   ]
  }
 ],
 "metadata": {
  "kernelspec": {
   "display_name": "Python 3",
   "language": "python",
   "name": "python3"
  },
  "language_info": {
   "codemirror_mode": {
    "name": "ipython",
    "version": 3
   },
   "file_extension": ".py",
   "mimetype": "text/x-python",
   "name": "python",
   "nbconvert_exporter": "python",
   "pygments_lexer": "ipython3",
   "version": "3.7.7"
  }
 },
 "nbformat": 4,
 "nbformat_minor": 4
}
