{
 "cells": [
  {
   "cell_type": "code",
   "execution_count": 2,
   "metadata": {},
   "outputs": [],
   "source": [
    "import numpy as np\n",
    "from astropy.cosmology import Planck15 as cosmo\n",
    "import h5py\n",
    "\n",
    "# adding path to GPR_for_IM directory in order to import relevant scripts\n",
    "import sys\n",
    "sys.path.append('../')\n",
    "import obs_tools as obs"
   ]
  },
  {
   "cell_type": "markdown",
   "metadata": {},
   "source": [
    "Frequency range of data:"
   ]
  },
  {
   "cell_type": "code",
   "execution_count": 5,
   "metadata": {},
   "outputs": [],
   "source": [
    "df = 1 # frequency resolution of data (MHz)\n",
    "vmin = 899 # min frequency (MHz)\n",
    "vmax = 1184 # max frequency (MHz)\n",
    "freqs = np.arange(vmin, vmax, df)"
   ]
  },
  {
   "cell_type": "markdown",
   "metadata": {},
   "source": [
    "Load unsmoothed data:"
   ]
  },
  {
   "cell_type": "code",
   "execution_count": 7,
   "metadata": {},
   "outputs": [],
   "source": [
    "gsync = np.load('../Data/dT_sync_Stripe82_noBeam.npy')\n",
    "free = np.load('../Data/dT_free_Stripe82_noBeam.npy')\n",
    "psource = np.load('../Data/dT_psource_Stripe82_noBeam.npy')\n",
    "pleak = np.load('../Data/dT_pleak_Stripe82_noBeam.npy')\n",
    "FGnopol_data = gsync + free + psource\n",
    "FGwpol_data = gsync + free + psource + pleak\n",
    "HI_data = np.load('../Data/T_HI-MDSAGE_z_0.39.npy')\n",
    "HI_data = np.swapaxes(HI_data, 1, 2)\n",
    "noise_data = np.load('../Data/dT_noise.npy')"
   ]
  },
  {
   "cell_type": "markdown",
   "metadata": {},
   "source": [
    "Smooth data by telescope beam:"
   ]
  },
  {
   "cell_type": "code",
   "execution_count": 8,
   "metadata": {},
   "outputs": [],
   "source": [
    "# smoothing maps\n",
    "lx,ly,lz = 1000,1000, 924.78 #Mpc/h\n",
    "zmax = 0.58\n",
    "sigma_beam = 1.55\n",
    "FGnopol_HI_noise_smoothed = obs.ConvolveCube(np.copy(FGnopol_data+HI_data+noise_data),zmax,lx,ly,sigma_beam, cosmo)\n",
    "FGwpol_HI_noise_smoothed = obs.ConvolveCube(np.copy(FGwpol_data+HI_data+noise_data),zmax,lx,ly, sigma_beam, cosmo)\n",
    "FGnopol_smoothed = obs.ConvolveCube(np.copy(FGnopol_data),zmax,lx,ly,sigma_beam, cosmo)\n",
    "FGwpol_smoothed = obs.ConvolveCube(np.copy(FGwpol_data),zmax,lx,ly,sigma_beam, cosmo)\n",
    "HI_noise_smoothed = obs.ConvolveCube(np.copy(HI_data+noise_data),zmax,lx,ly,sigma_beam, cosmo)\n",
    "HI_smoothed = obs.ConvolveCube(np.copy(HI_data),zmax,lx,ly,sigma_beam, cosmo)\n",
    "noise_smoothed = obs.ConvolveCube(np.copy(noise_data),zmax,lx,ly,sigma_beam, cosmo)\n",
    "gsync_smoothed = obs.ConvolveCube(np.copy(gsync),zmax,lx,ly,sigma_beam, cosmo)\n",
    "free_smoothed = obs.ConvolveCube(np.copy(free),zmax,lx,ly,sigma_beam, cosmo)\n",
    "psource_smoothed = obs.ConvolveCube(np.copy(psource),zmax,lx,ly,sigma_beam, cosmo)\n",
    "pol_smoothed = obs.ConvolveCube(np.copy(pleak),zmax,lx,ly,sigma_beam, cosmo)"
   ]
  },
  {
   "cell_type": "markdown",
   "metadata": {},
   "source": [
    "Initialise file:"
   ]
  },
  {
   "cell_type": "code",
   "execution_count": 9,
   "metadata": {},
   "outputs": [],
   "source": [
    "hf = h5py.File('data.h5', 'w')"
   ]
  },
  {
   "cell_type": "markdown",
   "metadata": {},
   "source": [
    "Create two groups (kind of like \"folders\" within the data file), one for data that has beem smoothed with the telescope beam and one for unsmoothed data:"
   ]
  },
  {
   "cell_type": "code",
   "execution_count": 10,
   "metadata": {},
   "outputs": [
    {
     "data": {
      "text/plain": [
       "<HDF5 dataset \"freqs\": shape (285,), type \"<i8\">"
      ]
     },
     "execution_count": 10,
     "metadata": {},
     "output_type": "execute_result"
    }
   ],
   "source": [
    "hf.create_dataset('freqs', data=freqs)"
   ]
  },
  {
   "cell_type": "code",
   "execution_count": 11,
   "metadata": {},
   "outputs": [],
   "source": [
    "g1 = hf.create_group('beam')\n",
    "g2 = hf.create_group('nobeam')"
   ]
  },
  {
   "cell_type": "markdown",
   "metadata": {},
   "source": [
    "No beam:"
   ]
  },
  {
   "cell_type": "code",
   "execution_count": 12,
   "metadata": {},
   "outputs": [
    {
     "data": {
      "text/plain": [
       "<HDF5 dataset \"noise\": shape (256, 256, 285), type \"<f8\">"
      ]
     },
     "execution_count": 12,
     "metadata": {},
     "output_type": "execute_result"
    }
   ],
   "source": [
    "# foregrounds folder:\n",
    "g3 = hf.create_group('nobeam/foregrounds')\n",
    "g3.create_dataset('sync',data=gsync)\n",
    "g3.create_dataset('free',data=free)\n",
    "g3.create_dataset('psource',data=psource)\n",
    "g3.create_dataset('pleak',data=pleak)\n",
    "# main folder:\n",
    "g2.create_dataset('HI',data=HI_data)\n",
    "g2.create_dataset('noise',data=noise_data)"
   ]
  },
  {
   "cell_type": "markdown",
   "metadata": {},
   "source": [
    "With beam:"
   ]
  },
  {
   "cell_type": "code",
   "execution_count": 13,
   "metadata": {},
   "outputs": [
    {
     "data": {
      "text/plain": [
       "<HDF5 dataset \"FGnopol+HI+noise\": shape (256, 256, 285), type \"<f8\">"
      ]
     },
     "execution_count": 13,
     "metadata": {},
     "output_type": "execute_result"
    }
   ],
   "source": [
    "# foregrounds folder:\n",
    "g4 = hf.create_group('beam/foregrounds')\n",
    "g4.create_dataset('sync',data=gsync_smoothed)\n",
    "g4.create_dataset('free',data=free_smoothed)\n",
    "g4.create_dataset('psource',data=psource_smoothed)\n",
    "g4.create_dataset('pleak',data=pol_smoothed)\n",
    "g4.create_dataset('nopol',data=FGnopol_smoothed)\n",
    "g4.create_dataset('wpol',data=FGwpol_smoothed)\n",
    "# main folder:\n",
    "g1.create_dataset('HI+noise',data=HI_noise_smoothed)\n",
    "g1.create_dataset('noise',data=noise_smoothed)\n",
    "g1.create_dataset('HI',data=HI_smoothed)\n",
    "g1.create_dataset('FGwpol+HI+noise',data=FGwpol_HI_noise_smoothed)\n",
    "g1.create_dataset('FGnopol+HI+noise',data=FGnopol_HI_noise_smoothed)"
   ]
  },
  {
   "cell_type": "code",
   "execution_count": 14,
   "metadata": {},
   "outputs": [],
   "source": [
    "hf.close()"
   ]
  }
 ],
 "metadata": {
  "kernelspec": {
   "display_name": "Python 3",
   "language": "python",
   "name": "python3"
  },
  "language_info": {
   "codemirror_mode": {
    "name": "ipython",
    "version": 3
   },
   "file_extension": ".py",
   "mimetype": "text/x-python",
   "name": "python",
   "nbconvert_exporter": "python",
   "pygments_lexer": "ipython3",
   "version": "3.7.7"
  }
 },
 "nbformat": 4,
 "nbformat_minor": 4
}
