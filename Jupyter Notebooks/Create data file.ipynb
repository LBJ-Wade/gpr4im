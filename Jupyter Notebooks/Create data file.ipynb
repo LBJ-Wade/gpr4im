{
 "cells": [
  {
   "cell_type": "code",
   "execution_count": 1,
   "metadata": {},
   "outputs": [],
   "source": [
    "import numpy as np\n",
    "from astropy.cosmology import Planck15 as cosmo\n",
    "import pandas as pd\n",
    "\n",
    "# adding path to GPR_for_IM directory in order to import relevant scripts\n",
    "import sys\n",
    "sys.path.append('../')\n",
    "import obs_tools as obs"
   ]
  },
  {
   "cell_type": "markdown",
   "metadata": {},
   "source": [
    "Frequency range of data:"
   ]
  },
  {
   "cell_type": "code",
   "execution_count": 2,
   "metadata": {},
   "outputs": [],
   "source": [
    "df = 1 # frequency resolution of data (MHz)\n",
    "vmin = 899 # min frequency (MHz)\n",
    "vmax = 1184 # max frequency (MHz)\n",
    "freqs = np.arange(vmin, vmax, df)"
   ]
  },
  {
   "cell_type": "markdown",
   "metadata": {},
   "source": [
    "Load unsmoothed data:"
   ]
  },
  {
   "cell_type": "code",
   "execution_count": 3,
   "metadata": {},
   "outputs": [],
   "source": [
    "gsync = np.load('../Data/dT_sync_Stripe82_noBeam.npy')\n",
    "free = np.load('../Data/dT_free_Stripe82_noBeam.npy')\n",
    "psource = np.load('../Data/dT_psource_Stripe82_noBeam.npy')\n",
    "pleak = np.load('../Data/dT_pleak_Stripe82_noBeam.npy')\n",
    "FGnopol_data = gsync + free + psource\n",
    "FGwpol_data = gsync + free + psource + pleak\n",
    "HI_data = np.load('../Data/T_HI-MDSAGE_z_0.39.npy')\n",
    "HI_data = np.swapaxes(HI_data, 1, 2)\n",
    "noise_data = np.load('../Data/dT_noise.npy')\n",
    "HIFGpolnoise_data_smoothed_mock = np.load('../Data/HIFGpolnoisemock_data_smoothed.npy')\n",
    "smoothed_mock = np.load('../Data/Smoothed_mock.npy')"
   ]
  },
  {
   "cell_type": "markdown",
   "metadata": {},
   "source": [
    "Smooth data by telescope beam:"
   ]
  },
  {
   "cell_type": "code",
   "execution_count": 4,
   "metadata": {},
   "outputs": [],
   "source": [
    "# smoothing maps\n",
    "lx,ly,lz = 1000,1000, 924.78 #Mpc/h\n",
    "zmax = 0.58\n",
    "sigma_beam = 1.55\n",
    "FGnopol_HI_noise_smoothed = obs.ConvolveCube(np.copy(FGnopol_data+HI_data+noise_data),zmax,lx,ly,sigma_beam, cosmo)\n",
    "FGwpol_HI_noise_smoothed = obs.ConvolveCube(np.copy(FGwpol_data+HI_data+noise_data),zmax,lx,ly, sigma_beam, cosmo)\n",
    "FGnopol_smoothed = obs.ConvolveCube(np.copy(FGnopol_data),zmax,lx,ly,sigma_beam, cosmo)\n",
    "FGwpol_smoothed = obs.ConvolveCube(np.copy(FGwpol_data),zmax,lx,ly,sigma_beam, cosmo)\n",
    "HI_noise_smoothed = obs.ConvolveCube(np.copy(HI_data+noise_data),zmax,lx,ly,sigma_beam, cosmo)\n",
    "HI_smoothed = obs.ConvolveCube(np.copy(HI_data),zmax,lx,ly,sigma_beam, cosmo)\n",
    "noise_smoothed = obs.ConvolveCube(np.copy(noise_data),zmax,lx,ly,sigma_beam, cosmo)\n",
    "gsync_smoothed = obs.ConvolveCube(np.copy(gsync),zmax,lx,ly,sigma_beam, cosmo)\n",
    "free_smoothed = obs.ConvolveCube(np.copy(free),zmax,lx,ly,sigma_beam, cosmo)\n",
    "psource_smoothed = obs.ConvolveCube(np.copy(psource),zmax,lx,ly,sigma_beam, cosmo)\n",
    "pleak_smoothed = obs.ConvolveCube(np.copy(pleak),zmax,lx,ly,sigma_beam, cosmo)"
   ]
  },
  {
   "cell_type": "markdown",
   "metadata": {},
   "source": [
    "Make pickle file:"
   ]
  },
  {
   "cell_type": "code",
   "execution_count": 5,
   "metadata": {},
   "outputs": [],
   "source": [
    "nobeam_fg = pd.Series({'sync':gsync, 'free':free, 'psource':psource, 'pleak':pleak})\n",
    "nobeam = pd.Series({'foregrounds':nobeam_fg, 'HI':HI_data, 'noise':noise_data})\n",
    "\n",
    "wbeam_fg = pd.Series({'sync':gsync_smoothed, 'free':free_smoothed, 'psource':psource_smoothed, 'pleak':pleak_smoothed,\n",
    "                     'all_nopol':FGnopol_smoothed, 'all_wpol':FGwpol_smoothed})\n",
    "wbeam = pd.Series({'foregrounds':wbeam_fg, 'HI_noise':HI_noise_smoothed, 'noise':noise_smoothed, 'HI':HI_smoothed, \n",
    "                  'FGwpol_HI_noise':FGwpol_HI_noise_smoothed, 'FGnopol_HI_noise':FGnopol_HI_noise_smoothed, \n",
    "                  'FGwpol_HI_noise_lognorm':HIFGpolnoise_data_smoothed_mock, 'lognorm':smoothed_mock})\n",
    "\n",
    "S = pd.Series({'freqs': freqs, 'nobeam': nobeam, 'beam':wbeam})\n",
    "\n",
    "S.to_pickle('../Data/data.pkl')"
   ]
  }
 ],
 "metadata": {
  "kernelspec": {
   "display_name": "Python 3",
   "language": "python",
   "name": "python3"
  },
  "language_info": {
   "codemirror_mode": {
    "name": "ipython",
    "version": 3
   },
   "file_extension": ".py",
   "mimetype": "text/x-python",
   "name": "python",
   "nbconvert_exporter": "python",
   "pygments_lexer": "ipython3",
   "version": "3.7.7"
  }
 },
 "nbformat": 4,
 "nbformat_minor": 4
}
