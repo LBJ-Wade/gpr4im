{
 "cells": [
  {
   "cell_type": "code",
   "execution_count": 1,
   "metadata": {},
   "outputs": [],
   "source": [
    "import matplotlib.pyplot as plt\n",
    "import numpy as np\n",
    "import GPy\n",
    "import pandas as pd\n",
    "\n",
    "from gpr4im import pk_tools as pk\n",
    "from gpr4im import fg_tools as fg"
   ]
  },
  {
   "cell_type": "code",
   "execution_count": 2,
   "metadata": {},
   "outputs": [],
   "source": [
    "# for plotting:\n",
    "%matplotlib inline\n",
    "\n",
    "font = {\"size\": 16, \"family\": \"STIXGeneral\"}\n",
    "axislabelfontsize = \"x-large\"\n",
    "plt.rc(\"font\", **font)\n",
    "plt.rcParams[\"text.usetex\"] = True"
   ]
  },
  {
   "cell_type": "markdown",
   "metadata": {},
   "source": [
    "# Running GPR"
   ]
  },
  {
   "cell_type": "markdown",
   "metadata": {},
   "source": [
    "In this notebook, we show how to run Gaussian Process Regression (GPR) as a foreground removal technique on single-dish HI IM simulations. For a more thorough explanation of how GPR works, please see `Understanding GPR.ipynb`."
   ]
  },
  {
   "cell_type": "markdown",
   "metadata": {},
   "source": [
    "## Loading data\n",
    "\n",
    "First, we load all the data we need for the analysis:\n",
    "\n",
    "- Foregrounds (no polarisation)\n",
    "- HI cosmological signal + instrumental noise\n",
    "\n",
    "And make sure the data is in $[N_x, N_y, N_z]$ format, where $N_z$ is the line of sight (frequency) direction. Our box has dimensions:\n",
    "- $N_x, N_y, N_z$ = grid dimensions = 128, 128, 142\n",
    "- $L_x, L_y, L_z$ = comoving distance dimensions = 500, 500, 460.77 Mpc/$h$\n",
    "\n",
    "The data is smoothed by a constant telescope beam, which is the largest beam given by $\\theta_\\text{FWHM} = 1.55$ deg. The central redshift of the data is $z=0.28$.\n",
    "\n",
    "We also load the frequency range of our data, `freqs`. The data goes from 1042MHz to 1183MHz in 1MHz increments."
   ]
  },
  {
   "cell_type": "code",
   "execution_count": 3,
   "metadata": {},
   "outputs": [],
   "source": [
    "data = pd.read_pickle('../Data/example_data.pkl')\n",
    "FGnopol_HI_noise_data = data.beam.FGnopol_HI_noise\n",
    "HI_noise_data = data.beam.HI_noise\n",
    "freqs = data.freqs"
   ]
  },
  {
   "cell_type": "markdown",
   "metadata": {},
   "source": [
    "Now we run PCA foreground cleaning in order to compare these results to GPR:"
   ]
  },
  {
   "cell_type": "code",
   "execution_count": 4,
   "metadata": {},
   "outputs": [],
   "source": [
    "pca_res_3 = fg.PCAclean(FGnopol_HI_noise_data, N_FG=3)[0]"
   ]
  },
  {
   "cell_type": "markdown",
   "metadata": {},
   "source": [
    "## Running GPR"
   ]
  },
  {
   "cell_type": "markdown",
   "metadata": {},
   "source": [
    "We start by choosing which kernels we will use for each component in our data:"
   ]
  },
  {
   "cell_type": "code",
   "execution_count": 5,
   "metadata": {},
   "outputs": [],
   "source": [
    "# kernel for the smooth foreground:\n",
    "kern_fg = GPy.kern.RBF(1)\n",
    "# kernel for the HI cosmological signal:\n",
    "kern_21 = GPy.kern.Exponential(1)"
   ]
  },
  {
   "cell_type": "markdown",
   "metadata": {},
   "source": [
    "We want to set priors for the kernels, to make sure the foreground kernels aren't fitting to the HI data and the HI kernel isn't fitting to the foregrounds."
   ]
  },
  {
   "cell_type": "code",
   "execution_count": 6,
   "metadata": {},
   "outputs": [
    {
     "name": "stderr",
     "output_type": "stream",
     "text": [
      "reconstraining parameters rbf.variance\n",
      "reconstraining parameters rbf.lengthscale\n",
      "reconstraining parameters Exponential.variance\n",
      "reconstraining parameters Exponential.lengthscale\n"
     ]
    }
   ],
   "source": [
    "# setting priors for the smooth foreground kernel:\n",
    "kern_fg.variance.constrain_bounded(1000,100000000)\n",
    "kern_fg.lengthscale.constrain_bounded(200,10000)\n",
    "# setting priors for the HI kernel:\n",
    "kern_21.variance.constrain_bounded(0.000001,0.5)\n",
    "kern_21.lengthscale.constrain_bounded(0.01,15)"
   ]
  },
  {
   "cell_type": "markdown",
   "metadata": {},
   "source": [
    "We now define the total kernel function for our data, which is the foreground kernel + the HI kernel:"
   ]
  },
  {
   "cell_type": "code",
   "execution_count": 7,
   "metadata": {},
   "outputs": [],
   "source": [
    "kern = kern_fg + kern_21"
   ]
  },
  {
   "cell_type": "markdown",
   "metadata": {},
   "source": [
    "To run GPR, we will need to make a few choices regarding our data. We simplify these choices in our code by assigning specific parameters that control each of them. The parameters you must set for running GPR are:\n",
    "\n",
    "- `Input`: data cube to be cleaned, in $[N_x,N_y,N_z]$ format where $N_z$ is the frequency direction\n",
    "- `num_restarts`: how many times to optimise the GPR regression model by restarting the GPR fit\n",
    "- `NprePCA`: set to 0 if no pre-PCA is desired, otherwise this number is the $N_\\text{FG}$ number of components used in a pre-PCA clean of the data\n",
    "- `noise_data`: input here your noise map in $[N_x,N_y,N_z]$ if you have a reasonable estimate from your data, otherwise set to None and use GPR to try to fit your noise\n",
    "- `zero_noise`: if True, the noise in your GPR model will be set to zero and fixed. Otherwise it will try to fit to noise in your data, in either the heteroscedastic or non-heteroscedastic case. Set to zero if you want to fit your noise with a separate kernel instead, otherwise you will fit to noise twice\n",
    "- `heteroscedastic`: if True, runs Heteroscedastic regression model (where the noise variance changes with frequency) (Note: you cannot have noise=False and heteroscedastic=True at the same time, to set noise to zero set heteroscedastic=False too). If False, the noise variance will be assumed to be constant with frequency.\n",
    "- `invert`: if True, inverts data in the frequency direction"
   ]
  },
  {
   "cell_type": "code",
   "execution_count": 8,
   "metadata": {},
   "outputs": [],
   "source": [
    "Input = FGnopol_HI_noise_data\n",
    "num_restarts = 10\n",
    "NprePCA = 0\n",
    "noise_data = None\n",
    "zero_noise = True\n",
    "heteroscedastic = False\n",
    "invert = False"
   ]
  },
  {
   "cell_type": "markdown",
   "metadata": {},
   "source": [
    "Now that we've decided on a kernel and noise model, we run the GPR foreground removal function, which yields the following outputs:\n",
    "\n",
    "- `gpr_result.res`: residual map of HI and noise, after GPR foreground subtraction;\n",
    "- `gpr_result.fgfit`: GPR's prediction for what our foregrounds look like, i.e. what we subtract from our original data to get `res`;\n",
    "- `gpr_result.fgcov`: error covariance of the foreground estimate, i.e. how uncertain the estimate of the foreground is;\n",
    "- `gpr_result.model`: summary of what the best fit hyperparameters were found for the kernels, and what the objective function is."
   ]
  },
  {
   "cell_type": "code",
   "execution_count": 9,
   "metadata": {},
   "outputs": [
    {
     "name": "stderr",
     "output_type": "stream",
     "text": [
      " /opt/anaconda3/envs/testgpr2/lib/python3.7/site-packages/paramz/transformations.py:111: RuntimeWarning:divide by zero encountered in log\n"
     ]
    },
    {
     "name": "stdout",
     "output_type": "stream",
     "text": [
      "Optimization restart 1/10, f = -5728921.954242997\n",
      "Optimization restart 2/10, f = -5744408.870294426\n",
      "Optimization restart 3/10, f = -5638656.178344361\n",
      "Optimization restart 4/10, f = -5744408.875552362\n",
      "Optimization restart 5/10, f = -5744408.879236252\n",
      "Optimization restart 6/10, f = -5744408.883768383\n",
      "Optimization restart 7/10, f = -5728923.36383849\n",
      "Optimization restart 8/10, f = -5744408.881700948\n",
      "Optimization restart 9/10, f = -5744408.8883605525\n",
      "Optimization restart 10/10, f = -5728929.793198417\n"
     ]
    }
   ],
   "source": [
    "gpr_result = fg.GPRclean(Input, freqs, kern_fg, kern_21, NprePCA=NprePCA, num_restarts=num_restarts,\n",
    "                                          noise_data=noise_data, heteroscedastic=heteroscedastic, \n",
    "                                          zero_noise=zero_noise, invert=invert)"
   ]
  },
  {
   "cell_type": "markdown",
   "metadata": {},
   "source": [
    "We can print the optimised model to see things such as the objective function (which we want to be as small as possible), and also the best fit hyperparameters for the kernels. The `Objective` parameter describes how good of a fit our model is, and we want this to be as small as possible (i.e., a large negative number)."
   ]
  },
  {
   "cell_type": "code",
   "execution_count": 10,
   "metadata": {},
   "outputs": [
    {
     "data": {
      "text/html": [
       "<style type=\"text/css\">\n",
       ".pd{\n",
       "    font-family: \"Courier New\", Courier, monospace !important;\n",
       "    width: 100%;\n",
       "    padding: 3px;\n",
       "}\n",
       "</style>\n",
       "\n",
       "<p class=pd>\n",
       "<b>Model</b>: GP regression<br>\n",
       "<b>Objective</b>: -5744408.8883605525<br>\n",
       "<b>Number of Parameters</b>: 5<br>\n",
       "<b>Number of Optimization Parameters</b>: 4<br>\n",
       "<b>Updates</b>: True<br>\n",
       "</p>\n",
       "<style type=\"text/css\">\n",
       ".tg  {font-family:\"Courier New\", Courier, monospace !important;padding:2px 3px;word-break:normal;border-collapse:collapse;border-spacing:0;border-color:#DCDCDC;margin:0px auto;width:100%;}\n",
       ".tg td{font-family:\"Courier New\", Courier, monospace !important;font-weight:bold;color:#444;background-color:#F7FDFA;border-style:solid;border-width:1px;overflow:hidden;word-break:normal;border-color:#DCDCDC;}\n",
       ".tg th{font-family:\"Courier New\", Courier, monospace !important;font-weight:normal;color:#fff;background-color:#26ADE4;border-style:solid;border-width:1px;overflow:hidden;word-break:normal;border-color:#DCDCDC;}\n",
       ".tg .tg-left{font-family:\"Courier New\", Courier, monospace !important;font-weight:normal;text-align:left;}\n",
       ".tg .tg-center{font-family:\"Courier New\", Courier, monospace !important;font-weight:normal;text-align:center;}\n",
       ".tg .tg-right{font-family:\"Courier New\", Courier, monospace !important;font-weight:normal;text-align:right;}\n",
       "</style>\n",
       "<table class=\"tg\"><tr><th><b>  GP_regression.             </b></th><th><b>                value</b></th><th><b>   constraints    </b></th><th><b>priors</b></th></tr>\n",
       "<tr><td class=tg-left>  sum.rbf.variance           </td><td class=tg-right>   16778.518427732306</td><td class=tg-center>1000.0,100000000.0</td><td class=tg-center>      </td></tr>\n",
       "<tr><td class=tg-left>  sum.rbf.lengthscale        </td><td class=tg-right>    457.5011481719751</td><td class=tg-center>  200.0,10000.0   </td><td class=tg-center>      </td></tr>\n",
       "<tr><td class=tg-left>  sum.Exponential.variance   </td><td class=tg-right>0.0010004397266083216</td><td class=tg-center>    1e-06,0.5     </td><td class=tg-center>      </td></tr>\n",
       "<tr><td class=tg-left>  sum.Exponential.lengthscale</td><td class=tg-right>    5.574382189990612</td><td class=tg-center>    0.01,15.0     </td><td class=tg-center>      </td></tr>\n",
       "<tr><td class=tg-left>  Gaussian_noise.variance    </td><td class=tg-right>                  0.0</td><td class=tg-center>    +ve fixed     </td><td class=tg-center>      </td></tr>\n",
       "</table>"
      ],
      "text/plain": [
       "<GPy.models.gp_regression.GPRegression at 0x123610210>"
      ]
     },
     "execution_count": 10,
     "metadata": {},
     "output_type": "execute_result"
    }
   ],
   "source": [
    "gpr_result.model"
   ]
  },
  {
   "cell_type": "markdown",
   "metadata": {},
   "source": [
    "## Plot power spectrum"
   ]
  },
  {
   "cell_type": "code",
   "execution_count": 11,
   "metadata": {},
   "outputs": [],
   "source": [
    "# Grid dimension of data cube:\n",
    "lx,ly,lz = 500, 500, 460.77 #Mpc/h\n",
    "nx,ny,nz = 128, 128, 142\n",
    "# weighting and window function:\n",
    "w = W = np.ones((nx,ny,nz))\n",
    "# minimum and maximum k in each direction:\n",
    "kmin = 2*np.pi/pow(lx*ly*lz, 1/3)\n",
    "kmax= 0.4\n",
    "# set width of k bins to be 2*kmin\n",
    "dk = 2*kmin\n",
    "# number of k bins:\n",
    "nkbin = int((kmax-kmin)/dk)\n",
    "# setting array of k bin edges:\n",
    "kbins = np.arange(kmin,kmax,dk)\n",
    "# setting array of k bin centers\"\n",
    "k = np.linspace(kmin+0.5*dk,kmax-0.5*dk,nkbin)"
   ]
  },
  {
   "cell_type": "markdown",
   "metadata": {},
   "source": [
    "Calculate bias correction to the 3D power spectrum only:"
   ]
  },
  {
   "cell_type": "code",
   "execution_count": 12,
   "metadata": {},
   "outputs": [],
   "source": [
    "n_samples = 10\n",
    "pk_corr = pk.get_biascorr(gpr_result.fgcov, Input, n_samples, lx, ly, lz, kbins, kbins, w, W)[0]"
   ]
  },
  {
   "cell_type": "markdown",
   "metadata": {},
   "source": [
    "Calculate spherically averaged power spectra:"
   ]
  },
  {
   "cell_type": "code",
   "execution_count": 13,
   "metadata": {},
   "outputs": [],
   "source": [
    "pk_HI = pk.getpk(HI_noise_data,w,W,nx,ny,nz,lx,ly,lz,kbins)[0]\n",
    "pk_GPR = pk.getpk(gpr_result.res,w,W,nx,ny,nz,lx,ly,lz,kbins)[0] + pk_corr\n",
    "pk_PCA7 = pk.getpk(pca_res_3,w,W,nx,ny,nz,lx,ly,lz,kbins)[0]"
   ]
  },
  {
   "cell_type": "code",
   "execution_count": 15,
   "metadata": {},
   "outputs": [
    {
     "data": {
      "text/plain": [
       "Text(0.5, 0, '$k$ [$h$/Mpc]')"
      ]
     },
     "execution_count": 15,
     "metadata": {},
     "output_type": "execute_result"
    },
    {
     "data": {
      "image/png": "[encoded data removed]",
      "text/plain": [
       "<Figure size 792x576 with 1 Axes>"
      ]
     },
     "metadata": {
      "needs_background": "light"
     },
     "output_type": "display_data"
    }
   ],
   "source": [
    "plt.figure(figsize=(11,8))\n",
    "\n",
    "plt.plot(k, (k*k*k*pk_HI)/(2*np.pi*np.pi), ls='solid', lw=3, c='k', label = r'HI + noise data')\n",
    "plt.plot(k, (k*k*k*pk_GPR)/(2*np.pi*np.pi), ls='dashdot', lw=3, c='darkblue', label = r'GPR cleaned data')\n",
    "plt.plot(k, (k*k*k*pk_PCA7)/(2*np.pi*np.pi), ls='dotted', lw=3, c='darkred', label = r'PCA cleaned data ($N_{FG}=3$)')\n",
    "\n",
    "plt.legend(fontsize=18)\n",
    "#plt.xlim(0,0.4)\n",
    "plt.ylabel('(k$^3$/2$\\pi^2$)P($k$) [mK$^2$]', fontsize=22)\n",
    "plt.xlabel('$k$ [$h$/Mpc]', fontsize=22)"
   ]
  },
  {
   "cell_type": "code",
   "execution_count": null,
   "metadata": {},
   "outputs": [],
   "source": []
  }
 ],
 "metadata": {
  "kernelspec": {
   "display_name": "Python 3",
   "language": "python",
   "name": "python3"
  },
  "language_info": {
   "codemirror_mode": {
    "name": "ipython",
    "version": 3
   },
   "file_extension": ".py",
   "mimetype": "text/x-python",
   "name": "python",
   "nbconvert_exporter": "python",
   "pygments_lexer": "ipython3",
   "version": "3.7.10"
  }
 },
 "nbformat": 4,
 "nbformat_minor": 4
}
